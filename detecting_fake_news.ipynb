{
  "nbformat": 4,
  "nbformat_minor": 0,
  "metadata": {
    "colab": {
      "provenance": []
    },
    "kernelspec": {
      "name": "python3",
      "display_name": "Python 3"
    },
    "language_info": {
      "name": "python"
    }
  },
  "cells": [
    {
      "cell_type": "code",
      "source": [
        "import pandas as pd\n",
        "from sklearn.model_selection import train_test_split\n",
        "from sklearn.feature_extraction.text import TfidfVectorizer\n",
        "from sklearn.linear_model import PassiveAggressiveClassifier\n",
        "from sklearn.metrics import accuracy_score, confusion_matrix\n",
        "\n",
        "# Read the CSV file with on_bad_lines to skip problematic lines\n",
        "news_data = pd.read_csv('/content/news.csv', on_bad_lines='skip')\n",
        "\n",
        "# Display the first 10 rows of the dataset\n",
        "print(news_data.head(10))\n",
        "\n",
        "# Check for missing values\n",
        "print(news_data.isnull().sum())\n",
        "\n",
        "# Drop rows with missing values\n",
        "news_data.dropna(inplace=True)\n",
        "\n",
        "# Check again for missing values\n",
        "print(news_data.isnull().sum())\n",
        "\n",
        "# Split the data into training and test sets\n",
        "X = news_data['text']\n",
        "y = news_data['label']\n",
        "X_train, X_test, y_train, y_test = train_test_split(X, y, test_size=0.2, random_state=42)\n",
        "\n",
        "# Initialize the TfidfVectorizer\n",
        "tfidf_vectorizer = TfidfVectorizer(stop_words='english', max_df=0.7)\n",
        "\n",
        "# Fit and transform the training data\n",
        "tfidf_train = tfidf_vectorizer.fit_transform(X_train)\n",
        "tfidf_test = tfidf_vectorizer.transform(X_test)\n",
        "\n",
        "# Create a PassiveAggressiveClassifier\n",
        "passive = PassiveAggressiveClassifier(max_iter=50)\n",
        "passive.fit(tfidf_train, y_train)\n",
        "\n",
        "# Predict on the test set\n",
        "y_pred = passive.predict(tfidf_test)\n",
        "\n",
        "# Evaluate the model\n",
        "score = accuracy_score(y_test, y_pred)\n",
        "print(f'Accuracy: {round(score*100, 2)}%')\n",
        "\n",
        "confusion = confusion_matrix(y_test, y_pred, labels=['FAKE', 'REAL'])\n",
        "print(confusion)\n"
      ],
      "metadata": {
        "colab": {
          "base_uri": "https://localhost:8080/"
        },
        "id": "gw9iJjsv-OSM",
        "outputId": "c488afca-4778-4d75-e5e9-c46ee33ebc59"
      },
      "execution_count": null,
      "outputs": [
        {
          "output_type": "stream",
          "name": "stdout",
          "text": [
            "   Unnamed: 0                                              title  \\\n",
            "0        8476                       You Can Smell Hillary’s Fear   \n",
            "1       10294  Watch The Exact Moment Paul Ryan Committed Pol...   \n",
            "2        3608        Kerry to go to Paris in gesture of sympathy   \n",
            "3       10142  Bernie supporters on Twitter erupt in anger ag...   \n",
            "4         875   The Battle of New York: Why This Primary Matters   \n",
            "5        6903                                        Tehran, USA   \n",
            "6        7341  Girl Horrified At What She Watches Boyfriend D...   \n",
            "7          95                  ‘Britain’s Schindler’ Dies at 106   \n",
            "8        4869  Fact check: Trump and Clinton at the 'commande...   \n",
            "9        2909  Iran reportedly makes new push for uranium con...   \n",
            "\n",
            "                                                text label  \n",
            "0  Daniel Greenfield, a Shillman Journalism Fello...  FAKE  \n",
            "1  Google Pinterest Digg Linkedin Reddit Stumbleu...  FAKE  \n",
            "2  U.S. Secretary of State John F. Kerry said Mon...  REAL  \n",
            "3  — Kaydee King (@KaydeeKing) November 9, 2016 T...  FAKE  \n",
            "4  It's primary day in New York and front-runners...  REAL  \n",
            "5    \\nI’m not an immigrant, but my grandparents ...  FAKE  \n",
            "6  Share This Baylee Luciani (left), Screenshot o...  FAKE  \n",
            "7  A Czech stockbroker who saved more than 650 Je...  REAL  \n",
            "8  Hillary Clinton and Donald Trump made some ina...  REAL  \n",
            "9  Iranian negotiators reportedly have made a las...  REAL  \n",
            "Unnamed: 0    0\n",
            "title         0\n",
            "text          0\n",
            "label         0\n",
            "dtype: int64\n",
            "Unnamed: 0    0\n",
            "title         0\n",
            "text          0\n",
            "label         0\n",
            "dtype: int64\n",
            "Accuracy: 93.29%\n",
            "[[587  41]\n",
            " [ 44 595]]\n"
          ]
        }
      ]
    },
    {
      "cell_type": "code",
      "source": [
        "#Create a confusion matrix\n",
        "matrix= confusion_matrix(y_test,y_pred, labels=['FAKE','REAL'])\n",
        "matrix"
      ],
      "metadata": {
        "colab": {
          "base_uri": "https://localhost:8080/"
        },
        "id": "2JkoSDL3-OVq",
        "outputId": "41587a6f-9e65-4616-a265-afb660d7117d"
      },
      "execution_count": null,
      "outputs": [
        {
          "output_type": "execute_result",
          "data": {
            "text/plain": [
              "array([[587,  41],\n",
              "       [ 44, 595]])"
            ]
          },
          "metadata": {},
          "execution_count": 19
        }
      ]
    },
    {
      "cell_type": "code",
      "source": [
        "sns.heatmap(matrix, annot=True)\n",
        "plt.show()"
      ],
      "metadata": {
        "colab": {
          "base_uri": "https://localhost:8080/",
          "height": 430
        },
        "id": "kSig0Iju8Hc0",
        "outputId": "94bee4e8-c8ff-4824-d8db-28902d781b4b"
      },
      "execution_count": null,
      "outputs": [
        {
          "output_type": "display_data",
          "data": {
            "text/plain": [
              "<Figure size 640x480 with 2 Axes>"
            ],
            "image/png": "[encoded data removed]"
          },
          "metadata": {}
        }
      ]
    },
    {
      "cell_type": "code",
      "source": [
        "#Calculate the model's accuracy\n",
        "Accuracy=accuracy_score(y_test,y_pred)\n",
        "Accuracy*100"
      ],
      "metadata": {
        "colab": {
          "base_uri": "https://localhost:8080/"
        },
        "id": "uY9-RyA3_M9b",
        "outputId": "510482f7-53f9-4a32-e0ea-c665941d2dff"
      },
      "execution_count": null,
      "outputs": [
        {
          "output_type": "execute_result",
          "data": {
            "text/plain": [
              "93.29123914759275"
            ]
          },
          "metadata": {},
          "execution_count": 21
        }
      ]
    },
    {
      "cell_type": "markdown",
      "source": [
        "# ***The Model's Accuracy is 93%***"
      ],
      "metadata": {
        "id": "DeKDtiOk_XmN"
      }
    },
    {
      "cell_type": "code",
      "source": [
        "Report= classification_report(y_test, y_pred)\n",
        "print(Report)"
      ],
      "metadata": {
        "colab": {
          "base_uri": "https://localhost:8080/"
        },
        "id": "0JLHAuhb_M_R",
        "outputId": "ac3bfb68-c957-452d-db6a-a6a83a63127a"
      },
      "execution_count": null,
      "outputs": [
        {
          "output_type": "stream",
          "name": "stdout",
          "text": [
            "              precision    recall  f1-score   support\n",
            "\n",
            "        FAKE       0.93      0.93      0.93       628\n",
            "        REAL       0.94      0.93      0.93       639\n",
            "\n",
            "    accuracy                           0.93      1267\n",
            "   macro avg       0.93      0.93      0.93      1267\n",
            "weighted avg       0.93      0.93      0.93      1267\n",
            "\n"
          ]
        }
      ]
    },
    {
      "cell_type": "code",
      "source": [],
      "metadata": {
        "id": "RgtvNgKv_NCK"
      },
      "execution_count": null,
      "outputs": []
    },
    {
      "cell_type": "code",
      "source": [],
      "metadata": {
        "id": "6vIy6zBD_NFa"
      },
      "execution_count": null,
      "outputs": []
    }
  ]
}